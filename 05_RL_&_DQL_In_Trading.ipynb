{
  "nbformat": 4,
  "nbformat_minor": 0,
  "metadata": {
    "colab": {
      "provenance": []
    },
    "kernelspec": {
      "name": "python3",
      "display_name": "Python 3"
    },
    "language_info": {
      "name": "python"
    }
  },
  "cells": [
    {
      "cell_type": "markdown",
      "source": [
        "# 005 RL/DQL In Trading\n",
        "Fabiana De la Peña & Santiago Figueiras\n",
        "\n",
        "En este proyecto, exploramos la aplicación de **Aprendizaje por Refuerzo (RL)** y **Deep Q-Learning (DQL)** al dominio del trading algorítmico y la gestión de carteras. El Aprendizaje por Refuerzo ofrece un marco poderoso para entrenar agentes que aprenden a tomar decisiones secuenciales a través de la interacción con un entorno dinámico. A diferencia del aprendizaje supervisado, el RL no depende de datos etiquetados, sino que optimiza el comportamiento a través de prueba y error, guiado por recompensas y penalizaciones.\n",
        "\n",
        "---"
      ],
      "metadata": {
        "id": "nahOPfB4yXtf"
      }
    },
    {
      "cell_type": "markdown",
      "source": [
        "### 1. DESCARGAR Y PREPARAR DATOS\n",
        "\n",
        "Para este proyecto, utilizaremos la biblioteca `yfinance` para descargar datos históricos de precios de Apple Inc. (AAPL). Necesitamos al menos 5 años de datos para tener un conjunto lo suficientemente robusto para el entrenamiento y la prueba.\n",
        "\n",
        "Además de los precios de cierre, generaremos algunas características técnicas (indicadores) que servirán como nuestro espacio de estados. Un buen estado debe proporcionar al agente suficiente información sobre la situación actual del mercado para tomar una decisión informada.\n",
        "\n",
        "* **Retornos Diarios (Returns):** Capturan la volatilidad y el cambio porcentual día a día.\n",
        "* **Media Móvil Simple (SMA):** Usaremos una SMA de corto plazo (5 días) y una de mediano plazo (15 días) para identificar tendencias. El cruce de estas medias móviles es una señal de trading clásica."
      ],
      "metadata": {
        "id": "cq83jbTNymn6"
      }
    },
    {
      "cell_type": "code",
      "execution_count": null,
      "metadata": {
        "colab": {
          "base_uri": "https://localhost:8080/"
        },
        "id": "EWxawsRSyW0h",
        "outputId": "217f8f99-14eb-4c40-8909-37516e1e96fd"
      },
      "outputs": [
        {
          "output_type": "stream",
          "name": "stdout",
          "text": [
            "Usando dispositivo: cpu\n",
            "\n",
            "Descargando datos de AAPL...\n"
          ]
        },
        {
          "output_type": "stream",
          "name": "stderr",
          "text": [
            "/tmp/ipython-input-1-153078351.py:22: FutureWarning: YF.download() has changed argument auto_adjust default to True\n",
            "  data = yf.download('QQQ', '2018-01-01', '2024-07-01')\n",
            "[*********************100%***********************]  1 of 1 completed"
          ]
        },
        {
          "output_type": "stream",
          "name": "stdout",
          "text": [
            "Datos descargados y preparados:\n",
            "Price            Close        High         Low        Open    Volume  \\\n",
            "Date                                                                   \n",
            "2018-01-23  161.263840  161.406551  160.360057  160.436167  37989700   \n",
            "2018-01-24  160.217377  161.958355  159.294563  161.606344  54287400   \n",
            "2018-01-25  160.160324  161.378055  159.646585  161.320976  28925000   \n",
            "2018-01-26  162.614746  162.633777  160.740594  161.054528  32038200   \n",
            "2018-01-29  161.825165  162.595758  161.482677  162.272302  37277800   \n",
            "\n",
            "Price        Returns       SMA_5      SMA_15  \n",
            "Date                                          \n",
            "2018-01-23  0.008268  158.986304  155.731419  \n",
            "2018-01-24 -0.006489  159.484830  156.360581  \n",
            "2018-01-25 -0.000356  159.966214  156.888268  \n",
            "2018-01-26  0.015325  160.839554  157.561823  \n",
            "2018-01-29 -0.004856  161.216290  158.080629  \n"
          ]
        },
        {
          "output_type": "stream",
          "name": "stderr",
          "text": [
            "\n"
          ]
        }
      ],
      "source": [
        "import numpy as np\n",
        "import pandas as pd\n",
        "import matplotlib.pyplot as plt\n",
        "import yfinance as yf\n",
        "from collections import deque\n",
        "import random\n",
        "import torch\n",
        "import torch.nn as nn\n",
        "import torch.optim as optim\n",
        "import torch.nn.functional as F\n",
        "\n",
        "# Configuración inicial para reproducibilidad\n",
        "np.random.seed(42)\n",
        "torch.manual_seed(42)\n",
        "\n",
        "# Configuración del dispositivo (GPU si está disponible, si no, CPU)\n",
        "device = torch.device(\"cuda\" if torch.cuda.is_available() else \"cpu\")\n",
        "print(f\"Usando dispositivo: {device}\")\n",
        "\n",
        "# Descargar datos históricos de Apple (AAPL) para más de 5 años\n",
        "print(\"\\nDescargando datos de AAPL...\")\n",
        "data = yf.download('QQQ', '2018-01-01', '2024-07-01')\n",
        "\n",
        "# Elimina el nivel superior de columnas que yfinance a veces crea\n",
        "if isinstance(data.columns, pd.MultiIndex):\n",
        "    data.columns = data.columns.droplevel(1)\n",
        "\n",
        "# --- Feature Engineering ---\n",
        "# 1. Retornos diarios\n",
        "data['Returns'] = data['Close'].pct_change()\n",
        "# 2. Media móvil simple a corto plazo (5 días)\n",
        "data['SMA_5'] = data['Close'].rolling(window=5).mean()\n",
        "# 3. Media móvil simple a mediano plazo (15 días)\n",
        "data['SMA_15'] = data['Close'].rolling(window=15).mean()\n",
        "\n",
        "# Elimina filas con valores NaN resultantes del cálculo de las medias móviles\n",
        "data.dropna(inplace=True)\n",
        "\n",
        "print(\"Datos descargados y preparados:\")\n",
        "print(data.head())"
      ]
    },
    {
      "cell_type": "markdown",
      "source": [
        "---\n",
        "### 2. SPLIT DE DATOS\n",
        "\n",
        "Dividiremos nuestro conjunto de datos en dos partes:\n",
        "\n",
        "1.  **Conjunto de Entrenamiento (80%):** Datos que el agente utilizará para aprender la política de trading óptima.\n",
        "2.  **Conjunto de Prueba (20%):** Datos que el agente no ha visto nunca. Se usarán para evaluar el rendimiento del modelo entrenado en un escenario más realista (backtesting).\n",
        "\n",
        "Esta separación es crucial para evitar el sobreajuste (overfitting), donde un modelo aprende tan bien los datos de entrenamiento que no puede generalizar a nuevos datos."
      ],
      "metadata": {
        "id": "8OeZPU6ky2bW"
      }
    },
    {
      "cell_type": "code",
      "source": [
        "# División de datos: 80% para entrenamiento, 20% para pruebas\n",
        "split_ratio = 0.8\n",
        "split_index = int(split_ratio * len(data))\n",
        "\n",
        "train_df = data[:split_index]\n",
        "test_df = data[split_index:]\n",
        "\n",
        "print(f\"\\nDatos de entrenamiento: {len(train_df)} filas\")\n",
        "print(f\"Datos de prueba: {len(test_df)} filas\")"
      ],
      "metadata": {
        "colab": {
          "base_uri": "https://localhost:8080/"
        },
        "id": "k2e6NZbpy9xb",
        "outputId": "742da1df-f24e-467c-9257-2360f54982db"
      },
      "execution_count": null,
      "outputs": [
        {
          "output_type": "stream",
          "name": "stdout",
          "text": [
            "\n",
            "Datos de entrenamiento: 1295 filas\n",
            "Datos de prueba: 324 filas\n"
          ]
        }
      ]
    },
    {
      "cell_type": "markdown",
      "source": [
        "---\n",
        "### 3. AMBIENTE DE TRADING\n",
        "\n",
        "El entorno es una simulación del mercado de acciones donde nuestro agente operará. Este componente es fundamental en RL, ya que gestiona el estado, las acciones, y las recompensas.\n",
        "\n",
        "* **Estado (`_obs`):** La observación que el agente recibe en cada paso. Consiste en las características que definimos anteriormente (retornos, SMAs) junto con el estado actual de la cartera (balance y valor de las acciones), todo normalizado para ayudar al aprendizaje de la red neuronal.\n",
        "* **Acciones (`step`):** El agente puede realizar tres acciones discretas:\n",
        "    * **0: Comprar (Buy):** Invierte todo el efectivo disponible en comprar acciones.\n",
        "    * **1: Mantener (Hold):** No realiza ninguna operación.\n",
        "    * **2: Vender (Sell):** Vende todas las acciones que posee.\n",
        "* **Recompensa (`step`):** Para incentivar al agente a maximizar el retorno a largo plazo, la recompensa se otorga solo al final del episodio. Esta recompensa es el retorno porcentual total de la cartera. Un enfoque de recompensa dispersa (sparse reward) como este puede ser más estable que dar recompensas en cada paso, lo que podría llevar al agente a optimizar ganancias a corto plazo a expensas de la estrategia general."
      ],
      "metadata": {
        "id": "Mf7saYeHzQdQ"
      }
    },
    {
      "cell_type": "code",
      "source": [
        "class TradingEnv:\n",
        "    \"\"\"\n",
        "    Entorno de trading que simula la operación de acciones, diseñado para\n",
        "    interactuar con un agente de Aprendizaje por Refuerzo.\n",
        "    \"\"\"\n",
        "    def __init__(self, df, initial_balance=10000):\n",
        "        \"\"\"\n",
        "        Inicializa el entorno.\n",
        "\n",
        "        Args:\n",
        "            df (pd.DataFrame): DataFrame con los datos históricos del mercado.\n",
        "            initial_balance (int): Balance inicial en efectivo.\n",
        "        \"\"\"\n",
        "        self.df = df\n",
        "        self.initial_balance = initial_balance\n",
        "        self.reset()\n",
        "\n",
        "    def reset(self):\n",
        "        \"\"\"\n",
        "        Reinicia el entorno a su estado inicial para un nuevo episodio.\n",
        "\n",
        "        Returns:\n",
        "            np.array: La observación inicial del estado.\n",
        "        \"\"\"\n",
        "        self.current_step = 0\n",
        "        self.balance = self.initial_balance\n",
        "        self.shares_held = 0\n",
        "        self.net_worth = self.initial_balance\n",
        "        return self._get_observation()\n",
        "\n",
        "    def _get_observation(self):\n",
        "        \"\"\"\n",
        "        Construye el vector de estado (observación) para el paso actual.\n",
        "\n",
        "        Returns:\n",
        "            np.array: El estado actual del entorno.\n",
        "        \"\"\"\n",
        "        row = self.df.iloc[self.current_step]\n",
        "        # El estado incluye features de mercado y estado de la cartera\n",
        "        return np.array([\n",
        "            row['Returns'],\n",
        "            row['SMA_5'],\n",
        "            row['SMA_15'],\n",
        "            self.balance / self.initial_balance,\n",
        "            (self.shares_held * row['Close']) / self.initial_balance\n",
        "        ], dtype=np.float32)\n",
        "\n",
        "    def step(self, action):\n",
        "        \"\"\"\n",
        "        Ejecuta una acción y avanza el entorno un paso en el tiempo.\n",
        "\n",
        "        Args:\n",
        "            action (int): La acción a tomar (0: Comprar, 1: Mantener, 2: Vender).\n",
        "\n",
        "        Returns:\n",
        "            tuple: (nueva_observación, recompensa, terminado, info).\n",
        "        \"\"\"\n",
        "        current_price = self.df.iloc[self.current_step]['Close']\n",
        "\n",
        "        # Lógica de las acciones\n",
        "        if action == 0:  # Comprar\n",
        "            if self.balance > current_price:\n",
        "                self.shares_held = self.balance // current_price\n",
        "                self.balance -= self.shares_held * current_price\n",
        "        elif action == 2:  # Vender\n",
        "            if self.shares_held > 0:\n",
        "                self.balance += self.shares_held * current_price\n",
        "                self.shares_held = 0\n",
        "        # Acción 1 (Mantener) no requiere lógica\n",
        "\n",
        "        # Avanzar al siguiente día\n",
        "        self.current_step += 1\n",
        "\n",
        "        # Calcular el nuevo valor neto\n",
        "        new_price = self.df.iloc[self.current_step]['Close']\n",
        "        self.net_worth = self.balance + self.shares_held * new_price\n",
        "\n",
        "        # Comprobar si el episodio ha terminado\n",
        "        done = self.current_step >= len(self.df) - 1\n",
        "\n",
        "        # La recompensa se da solo al final para fomentar la maximización del retorno total\n",
        "        reward = (self.net_worth - self.initial_balance) / self.initial_balance * 100 if done else 0\n",
        "\n",
        "        return self._get_observation(), reward, done, {}"
      ],
      "metadata": {
        "id": "zzaRKwgSzXaj"
      },
      "execution_count": null,
      "outputs": []
    },
    {
      "cell_type": "markdown",
      "source": [
        "---\n",
        "### 4. RED NEURONAL DQN\n",
        "\n",
        "En Deep Q-Learning, en lugar de usar una tabla (Q-Table) para almacenar los valores Q de cada par estado-acción, usamos una red neuronal como un aproximador de funciones. Esto nos permite manejar espacios de estados grandes o continuos, ya que la red puede generalizar a partir de estados que no ha visto antes.\n",
        "\n",
        "Nuestra red neuronal (DQN) tomará el vector de estado como entrada y producirá un valor Q para cada una de las 3 acciones posibles (Comprar, Mantener, Vender). La arquitectura es una red feedforward simple con tres capas lineales y funciones de activación ReLU, una arquitectura estándar y efectiva para este tipo de datos."
      ],
      "metadata": {
        "id": "Hyk4oiNUzdsY"
      }
    },
    {
      "cell_type": "code",
      "source": [
        "class DQN(nn.Module):\n",
        "    \"\"\"\n",
        "    Red Neuronal Profunda para aproximar la función Q(s,a).\n",
        "    \"\"\"\n",
        "    def __init__(self, input_dim, output_dim=3):\n",
        "        \"\"\"\n",
        "        Args:\n",
        "            input_dim (int): Dimensión del vector de estado.\n",
        "            output_dim (int): Número de acciones posibles.\n",
        "        \"\"\"\n",
        "        super(DQN, self).__init__()\n",
        "        # Arquitectura de 3 capas densas\n",
        "        self.network = nn.Sequential(\n",
        "            nn.Linear(input_dim, 128),\n",
        "            nn.ReLU(),\n",
        "            nn.Linear(128, 64),\n",
        "            nn.ReLU(),\n",
        "            nn.Linear(64, output_dim)\n",
        "        )\n",
        "\n",
        "    def forward(self, x):\n",
        "        \"\"\"\n",
        "        Propagación hacia adelante: predice los valores Q para un estado dado.\n",
        "        \"\"\"\n",
        "        return self.network(x)"
      ],
      "metadata": {
        "id": "lG2-jf7SzkYv"
      },
      "execution_count": null,
      "outputs": []
    },
    {
      "cell_type": "markdown",
      "source": [
        "---\n",
        "### 5. AGENTE DQL\n",
        "\n",
        "El agente es la entidad que aprende y toma decisiones. Implementa la lógica central del algoritmo DQL, que incluye varios componentes clave para un entrenamiento estable y efectivo:\n",
        "\n",
        "* **Red Principal (Policy Network) y Red Objetivo (Target Network):** Usamos dos redes neuronales idénticas. La red principal se entrena en cada paso, mientras que la red objetivo se actualiza periódicamente copiando los pesos de la principal. Esto evita que los objetivos de la ecuación de Bellman cambien constantemente, lo que estabiliza el entrenamiento.\n",
        "* **Memoria de Repetición (Experience Replay Buffer):** El agente almacena sus experiencias `(estado, acción, recompensa, nuevo_estado)` en un búfer. En lugar de aprender de las experiencias secuencialmente, muestrea lotes aleatorios de esta memoria. Esto rompe la correlación entre experiencias consecutivas, haciendo el entrenamiento más eficiente y estable.\n",
        "* **Política Epsilon-Greedy (`act`):** Para equilibrar la exploración (probar nuevas acciones) y la explotación (usar la mejor acción conocida), el agente elige una acción aleatoria con una probabilidad `epsilon` y la mejor acción según su red Q el resto del tiempo. `Epsilon` comienza alto (mucha exploración) y decae gradualmente a medida que el agente aprende."
      ],
      "metadata": {
        "id": "slHi4zsKztGC"
      }
    },
    {
      "cell_type": "code",
      "source": [
        "class DQNAgent:\n",
        "    \"\"\"\n",
        "    Agente que implementa el algoritmo Deep Q-Network (DQN).\n",
        "    \"\"\"\n",
        "    def __init__(self, state_dim):\n",
        "        \"\"\"\n",
        "        Args:\n",
        "            state_dim (int): Dimensión del espacio de estados.\n",
        "        \"\"\"\n",
        "        self.state_dim = state_dim\n",
        "        # Red principal y red objetivo\n",
        "        self.q_network = DQN(state_dim).to(device)\n",
        "        self.target_network = DQN(state_dim).to(device)\n",
        "        self.target_network.load_state_dict(self.q_network.state_dict())\n",
        "        self.target_network.eval() # La red objetivo solo se usa para inferencia\n",
        "\n",
        "        self.optimizer = optim.Adam(self.q_network.parameters(), lr=0.001)\n",
        "        self.memory = deque(maxlen=10000) # Buffer de repetición de experiencias\n",
        "        self.epsilon = 1.0  # Parámetro para exploración\n",
        "        self.epsilon_decay = 0.999\n",
        "        self.epsilon_min = 0.01\n",
        "        self.gamma = 0.95 # Factor de descuento\n",
        "\n",
        "    def select_action(self, state):\n",
        "        \"\"\"\n",
        "        Selecciona una acción usando la política epsilon-greedy.\n",
        "        \"\"\"\n",
        "        if random.random() < self.epsilon:\n",
        "            return random.randrange(3)  # Exploración: acción aleatoria\n",
        "        with torch.no_grad():\n",
        "            # Explotación: mejor acción según la red Q\n",
        "            state_tensor = torch.FloatTensor(state).unsqueeze(0).to(device)\n",
        "            q_values = self.q_network(state_tensor)\n",
        "            return q_values.argmax().item()\n",
        "\n",
        "    def remember(self, state, action, reward, next_state, done):\n",
        "        \"\"\"\n",
        "        Almacena una transición en la memoria de repetición.\n",
        "        \"\"\"\n",
        "        self.memory.append((state, action, reward, next_state, done))\n",
        "\n",
        "    def learn(self, batch_size=64):\n",
        "        \"\"\"\n",
        "        Entrena la red Q-network usando un lote de experiencias de la memoria.\n",
        "        \"\"\"\n",
        "        if len(self.memory) < batch_size:\n",
        "            return # No entrenar si no hay suficientes experiencias\n",
        "\n",
        "        # Muestrear un lote aleatorio de la memoria\n",
        "        batch = random.sample(self.memory, batch_size)\n",
        "        states, actions, rewards, next_states, dones = zip(*batch)\n",
        "\n",
        "        # Convertir a tensores de PyTorch\n",
        "        states = torch.FloatTensor(np.array(states)).to(device)\n",
        "        actions = torch.LongTensor(actions).unsqueeze(1).to(device)\n",
        "        rewards = torch.FloatTensor(rewards).to(device)\n",
        "        next_states = torch.FloatTensor(np.array(next_states)).to(device)\n",
        "        dones = torch.BoolTensor(dones).to(device)\n",
        "\n",
        "        # Obtener los valores Q actuales para las acciones tomadas\n",
        "        current_q_values = self.q_network(states).gather(1, actions).squeeze()\n",
        "\n",
        "        # Obtener los valores Q máximos para los siguientes estados desde la red objetivo\n",
        "        next_q_values = self.target_network(next_states).max(1)[0].detach()\n",
        "\n",
        "        # Calcular el valor Q objetivo usando la ecuación de Bellman\n",
        "        target_q_values = rewards + self.gamma * next_q_values * (~dones)\n",
        "\n",
        "        # Calcular la pérdida (Error Cuadrático Medio)\n",
        "        loss = F.mse_loss(current_q_values, target_q_values)\n",
        "\n",
        "        # Optimización\n",
        "        self.optimizer.zero_grad()\n",
        "        loss.backward()\n",
        "        self.optimizer.step()\n",
        "\n",
        "        # Decaimiento de epsilon\n",
        "        if self.epsilon > self.epsilon_min:\n",
        "            self.epsilon *= self.epsilon_decay\n",
        "\n",
        "    def update_target_network(self):\n",
        "        \"\"\"\n",
        "        Copia los pesos de la red principal a la red objetivo.\n",
        "        \"\"\"\n",
        "        self.target_network.load_state_dict(self.q_network.state_dict())"
      ],
      "metadata": {
        "id": "c9P0Hz1mzwJn"
      },
      "execution_count": null,
      "outputs": []
    },
    {
      "cell_type": "markdown",
      "source": [
        "---\n",
        "### 6. ENTRENAMIENTO\n",
        "\n",
        "El bucle de entrenamiento itera a través de varios episodios. En cada episodio, el agente interactúa con el entorno de entrenamiento desde el principio hasta el final, tomando acciones, recibiendo recompensas y aprendiendo de sus experiencias.\n",
        "\n",
        "* **Episodios:** Se ejecutarán 50 episodios, como se especifica en los requisitos para DQL.\n",
        "* **Actualización de la Red Objetivo:** La red objetivo se actualizará cada 5 episodios para mantener la estabilidad del entrenamiento.\n",
        "* **Monitorización:** Imprimiremos el valor neto final de cada episodio y el valor actual de epsilon para observar el progreso del aprendizaje y la transición de exploración a explotación."
      ],
      "metadata": {
        "id": "RxkVrteOz0kK"
      }
    },
    {
      "cell_type": "code",
      "source": [
        "# Inicialización del entorno y el agente\n",
        "env = TradingEnv(train_df)\n",
        "state_size = len(env.reset())\n",
        "agent = DQNAgent(state_size)\n",
        "\n",
        "num_episodes = 100\n",
        "episode_rewards = []\n",
        "\n",
        "print(\"\\nIniciando entrenamiento del agente DQN...\")\n",
        "for ep in range(num_episodes):\n",
        "    state = env.reset()\n",
        "    done = False\n",
        "\n",
        "    while not done:\n",
        "        action = agent.select_action(state)\n",
        "        next_state, reward, done, _ = env.step(action)\n",
        "        agent.remember(state, action, reward, next_state, done)\n",
        "        agent.learn()\n",
        "        state = next_state\n",
        "\n",
        "    # Actualiza la red objetivo periódicamente\n",
        "    if ep % 5 == 0:\n",
        "        agent.update_target_network()\n",
        "\n",
        "    episode_rewards.append(env.net_worth)\n",
        "    print(f\"Episodio: {ep+1}/{num_episodes}, Valor Neto Final: ${env.net_worth:,.2f}, Epsilon: {agent.epsilon:.4f}\")\n",
        "\n",
        "print(\"\\nEntrenamiento finalizado.\")"
      ],
      "metadata": {
        "colab": {
          "base_uri": "https://localhost:8080/"
        },
        "id": "oq4quphRz3TK",
        "outputId": "276e7326-d6bd-4855-a69b-c9011ce500f9"
      },
      "execution_count": null,
      "outputs": [
        {
          "output_type": "stream",
          "name": "stdout",
          "text": [
            "\n",
            "Iniciando entrenamiento del agente DQN...\n",
            "Episodio: 1/100, Valor Neto Final: $319.02, Epsilon: 0.2918\n",
            "Episodio: 2/100, Valor Neto Final: $181.09, Epsilon: 0.0800\n",
            "Episodio: 3/100, Valor Neto Final: $15,353.01, Epsilon: 0.0219\n",
            "Episodio: 4/100, Valor Neto Final: $364.91, Epsilon: 0.0100\n",
            "Episodio: 5/100, Valor Neto Final: $183.19, Epsilon: 0.0100\n",
            "Episodio: 6/100, Valor Neto Final: $310.77, Epsilon: 0.0100\n",
            "Episodio: 7/100, Valor Neto Final: $213.04, Epsilon: 0.0100\n",
            "Episodio: 8/100, Valor Neto Final: $12,773.25, Epsilon: 0.0100\n",
            "Episodio: 9/100, Valor Neto Final: $346.90, Epsilon: 0.0100\n",
            "Episodio: 10/100, Valor Neto Final: $13,994.87, Epsilon: 0.0100\n",
            "Episodio: 11/100, Valor Neto Final: $158.14, Epsilon: 0.0100\n",
            "Episodio: 12/100, Valor Neto Final: $238.42, Epsilon: 0.0100\n",
            "Episodio: 13/100, Valor Neto Final: $297.15, Epsilon: 0.0100\n",
            "Episodio: 14/100, Valor Neto Final: $321.26, Epsilon: 0.0100\n",
            "Episodio: 15/100, Valor Neto Final: $15,189.50, Epsilon: 0.0100\n",
            "Episodio: 16/100, Valor Neto Final: $143.07, Epsilon: 0.0100\n",
            "Episodio: 17/100, Valor Neto Final: $363.44, Epsilon: 0.0100\n",
            "Episodio: 18/100, Valor Neto Final: $16,062.21, Epsilon: 0.0100\n",
            "Episodio: 19/100, Valor Neto Final: $312.22, Epsilon: 0.0100\n",
            "Episodio: 20/100, Valor Neto Final: $19,539.00, Epsilon: 0.0100\n",
            "Episodio: 21/100, Valor Neto Final: $185.35, Epsilon: 0.0100\n",
            "Episodio: 22/100, Valor Neto Final: $198.39, Epsilon: 0.0100\n",
            "Episodio: 23/100, Valor Neto Final: $226.29, Epsilon: 0.0100\n",
            "Episodio: 24/100, Valor Neto Final: $18,525.67, Epsilon: 0.0100\n",
            "Episodio: 25/100, Valor Neto Final: $213.96, Epsilon: 0.0100\n",
            "Episodio: 26/100, Valor Neto Final: $14,037.05, Epsilon: 0.0100\n",
            "Episodio: 27/100, Valor Neto Final: $266.04, Epsilon: 0.0100\n",
            "Episodio: 28/100, Valor Neto Final: $224.33, Epsilon: 0.0100\n",
            "Episodio: 29/100, Valor Neto Final: $423.65, Epsilon: 0.0100\n",
            "Episodio: 30/100, Valor Neto Final: $154.45, Epsilon: 0.0100\n",
            "Episodio: 31/100, Valor Neto Final: $11,230.83, Epsilon: 0.0100\n",
            "Episodio: 32/100, Valor Neto Final: $355.50, Epsilon: 0.0100\n",
            "Episodio: 33/100, Valor Neto Final: $226.59, Epsilon: 0.0100\n",
            "Episodio: 34/100, Valor Neto Final: $367.06, Epsilon: 0.0100\n",
            "Episodio: 35/100, Valor Neto Final: $151.44, Epsilon: 0.0100\n",
            "Episodio: 36/100, Valor Neto Final: $18,192.30, Epsilon: 0.0100\n",
            "Episodio: 37/100, Valor Neto Final: $279.16, Epsilon: 0.0100\n",
            "Episodio: 38/100, Valor Neto Final: $16,263.06, Epsilon: 0.0100\n",
            "Episodio: 39/100, Valor Neto Final: $15,832.80, Epsilon: 0.0100\n",
            "Episodio: 40/100, Valor Neto Final: $271.09, Epsilon: 0.0100\n",
            "Episodio: 41/100, Valor Neto Final: $10,752.44, Epsilon: 0.0100\n",
            "Episodio: 42/100, Valor Neto Final: $217.18, Epsilon: 0.0100\n",
            "Episodio: 43/100, Valor Neto Final: $220.09, Epsilon: 0.0100\n",
            "Episodio: 44/100, Valor Neto Final: $339.11, Epsilon: 0.0100\n",
            "Episodio: 45/100, Valor Neto Final: $12,188.32, Epsilon: 0.0100\n",
            "Episodio: 46/100, Valor Neto Final: $12,256.79, Epsilon: 0.0100\n",
            "Episodio: 47/100, Valor Neto Final: $16,954.26, Epsilon: 0.0100\n",
            "Episodio: 48/100, Valor Neto Final: $312.81, Epsilon: 0.0100\n",
            "Episodio: 49/100, Valor Neto Final: $242.69, Epsilon: 0.0100\n",
            "Episodio: 50/100, Valor Neto Final: $156.60, Epsilon: 0.0100\n",
            "Episodio: 51/100, Valor Neto Final: $20,537.20, Epsilon: 0.0100\n",
            "Episodio: 52/100, Valor Neto Final: $317.73, Epsilon: 0.0100\n",
            "Episodio: 53/100, Valor Neto Final: $14,659.72, Epsilon: 0.0100\n",
            "Episodio: 54/100, Valor Neto Final: $20,227.25, Epsilon: 0.0100\n",
            "Episodio: 55/100, Valor Neto Final: $16,699.36, Epsilon: 0.0100\n",
            "Episodio: 56/100, Valor Neto Final: $14,053.71, Epsilon: 0.0100\n",
            "Episodio: 57/100, Valor Neto Final: $15,567.61, Epsilon: 0.0100\n",
            "Episodio: 58/100, Valor Neto Final: $319.27, Epsilon: 0.0100\n",
            "Episodio: 59/100, Valor Neto Final: $268.15, Epsilon: 0.0100\n",
            "Episodio: 60/100, Valor Neto Final: $12,503.38, Epsilon: 0.0100\n",
            "Episodio: 61/100, Valor Neto Final: $224.49, Epsilon: 0.0100\n",
            "Episodio: 62/100, Valor Neto Final: $17,204.57, Epsilon: 0.0100\n",
            "Episodio: 63/100, Valor Neto Final: $15,549.00, Epsilon: 0.0100\n",
            "Episodio: 64/100, Valor Neto Final: $18,173.70, Epsilon: 0.0100\n",
            "Episodio: 65/100, Valor Neto Final: $216.26, Epsilon: 0.0100\n",
            "Episodio: 66/100, Valor Neto Final: $11,419.02, Epsilon: 0.0100\n",
            "Episodio: 67/100, Valor Neto Final: $12,600.02, Epsilon: 0.0100\n",
            "Episodio: 68/100, Valor Neto Final: $160.39, Epsilon: 0.0100\n",
            "Episodio: 69/100, Valor Neto Final: $155.05, Epsilon: 0.0100\n",
            "Episodio: 70/100, Valor Neto Final: $20,412.73, Epsilon: 0.0100\n",
            "Episodio: 71/100, Valor Neto Final: $325.82, Epsilon: 0.0100\n",
            "Episodio: 72/100, Valor Neto Final: $405.75, Epsilon: 0.0100\n",
            "Episodio: 73/100, Valor Neto Final: $274.65, Epsilon: 0.0100\n",
            "Episodio: 74/100, Valor Neto Final: $8,357.09, Epsilon: 0.0100\n",
            "Episodio: 75/100, Valor Neto Final: $300.48, Epsilon: 0.0100\n",
            "Episodio: 76/100, Valor Neto Final: $8,554.16, Epsilon: 0.0100\n",
            "Episodio: 77/100, Valor Neto Final: $11,220.79, Epsilon: 0.0100\n",
            "Episodio: 78/100, Valor Neto Final: $12,460.27, Epsilon: 0.0100\n",
            "Episodio: 79/100, Valor Neto Final: $269.00, Epsilon: 0.0100\n",
            "Episodio: 80/100, Valor Neto Final: $14,669.25, Epsilon: 0.0100\n",
            "Episodio: 81/100, Valor Neto Final: $311.43, Epsilon: 0.0100\n",
            "Episodio: 82/100, Valor Neto Final: $160.26, Epsilon: 0.0100\n",
            "Episodio: 83/100, Valor Neto Final: $359.25, Epsilon: 0.0100\n",
            "Episodio: 84/100, Valor Neto Final: $184.48, Epsilon: 0.0100\n",
            "Episodio: 85/100, Valor Neto Final: $15,471.49, Epsilon: 0.0100\n",
            "Episodio: 86/100, Valor Neto Final: $18,189.51, Epsilon: 0.0100\n",
            "Episodio: 87/100, Valor Neto Final: $147.69, Epsilon: 0.0100\n",
            "Episodio: 88/100, Valor Neto Final: $16,256.01, Epsilon: 0.0100\n",
            "Episodio: 89/100, Valor Neto Final: $17,191.38, Epsilon: 0.0100\n",
            "Episodio: 90/100, Valor Neto Final: $12,918.23, Epsilon: 0.0100\n",
            "Episodio: 91/100, Valor Neto Final: $17,740.21, Epsilon: 0.0100\n",
            "Episodio: 92/100, Valor Neto Final: $17,766.43, Epsilon: 0.0100\n",
            "Episodio: 93/100, Valor Neto Final: $24,884.94, Epsilon: 0.0100\n",
            "Episodio: 94/100, Valor Neto Final: $13,883.93, Epsilon: 0.0100\n",
            "Episodio: 95/100, Valor Neto Final: $13,301.96, Epsilon: 0.0100\n",
            "Episodio: 96/100, Valor Neto Final: $11,753.58, Epsilon: 0.0100\n",
            "Episodio: 97/100, Valor Neto Final: $14,442.36, Epsilon: 0.0100\n",
            "Episodio: 98/100, Valor Neto Final: $10,985.47, Epsilon: 0.0100\n",
            "Episodio: 99/100, Valor Neto Final: $8,813.15, Epsilon: 0.0100\n",
            "Episodio: 100/100, Valor Neto Final: $8,257.23, Epsilon: 0.0100\n",
            "\n",
            "Entrenamiento finalizado.\n"
          ]
        }
      ]
    },
    {
      "cell_type": "markdown",
      "source": [
        "---\n",
        "### 7. BACKTESTING\n",
        "\n",
        "Una vez que el agente está entrenado, debemos evaluar su rendimiento en datos que nunca ha visto. Este proceso se llama backtesting.\n",
        "\n",
        "1.  Creamos un nuevo entorno con el conjunto de datos de prueba (`test_df`).\n",
        "2.  Configuramos `epsilon` a 0 para que el agente solo tome decisiones basadas en lo que ha aprendido (explotación), sin acciones aleatorias.\n",
        "3.  Ejecutamos al agente a través de todo el conjunto de prueba y registramos el valor de su cartera en cada paso.\n",
        "4.  Comparamos su rendimiento con una estrategia simple pero efectiva: **Buy & Hold**. Esta estrategia consiste en comprar el activo al inicio del período de prueba y mantenerlo hasta el final. Sirve como un punto de referencia crucial para determinar si nuestro agente realmente ha aprendido una estrategia valiosa."
      ],
      "metadata": {
        "id": "SLxy1r4sz7Bs"
      }
    },
    {
      "cell_type": "code",
      "source": [
        "# --- Backtesting en el conjunto de prueba ---\n",
        "print(\"\\nIniciando backtesting con el agente entrenado...\")\n",
        "test_env = TradingEnv(test_df)\n",
        "state = test_env.reset()\n",
        "done = False\n",
        "portfolio_values = []\n",
        "\n",
        "# Desactivar la exploración para la evaluación\n",
        "agent.epsilon = 0.0\n",
        "\n",
        "while not done:\n",
        "    action = agent.select_action(state)\n",
        "    next_state, _, done, _ = test_env.step(action)\n",
        "    state = next_state\n",
        "    portfolio_values.append(test_env.net_worth)\n",
        "\n",
        "# --- Estrategia de comparación: Buy & Hold ---\n",
        "buy_hold_start_price = test_df['Close'].iloc[0]\n",
        "buy_hold_end_price = test_df['Close'].iloc[-1]\n",
        "buy_hold_return_val = (buy_hold_end_price / buy_hold_start_price) * test_env.initial_balance"
      ],
      "metadata": {
        "colab": {
          "base_uri": "https://localhost:8080/"
        },
        "id": "HEeMsJfv0CH3",
        "outputId": "be50e845-8785-430c-c7b2-b30fc8e99cbc"
      },
      "execution_count": null,
      "outputs": [
        {
          "output_type": "stream",
          "name": "stdout",
          "text": [
            "\n",
            "Iniciando backtesting con el agente entrenado...\n"
          ]
        }
      ]
    },
    {
      "cell_type": "markdown",
      "source": [
        "---\n",
        "### 8. RESULTADOS Y GRÁFICOS FINALES\n",
        "\n",
        "Finalmente, calculamos las métricas de rendimiento y visualizamos los resultados.\n",
        "\n",
        "* **Retorno del Agente DQL:** El retorno porcentual obtenido por nuestro agente en el conjunto de prueba.\n",
        "* **Retorno de Buy & Hold:** El retorno porcentual de la estrategia de referencia.\n",
        "* **Diferencia:** La métrica más importante, que nos dice cuánto valor (o pérdida) ha añadido nuestro agente en comparación con simplemente mantener el activo.\n",
        "\n",
        "El gráfico muestra la evolución del valor de la cartera de nuestro agente a lo largo del tiempo, comparado con el valor final de la estrategia Buy & Hold."
      ],
      "metadata": {
        "id": "-_Ks_PlF0Eze"
      }
    },
    {
      "cell_type": "code",
      "source": [
        "# --- Cálculo de Retornos ---\n",
        "dql_agent_return = (portfolio_values[-1] - test_env.initial_balance) / test_env.initial_balance * 100\n",
        "buy_hold_return = (buy_hold_return_val - test_env.initial_balance) / test_env.initial_balance * 100\n",
        "\n",
        "# --- Imprimir Resultados ---\n",
        "print(\"\\n========== RESULTADOS DEL BACKTESTING ==========\")\n",
        "print(f\"Retorno del Agente DQL: {dql_agent_return:.2f}%\")\n",
        "print(f\"Retorno de Buy & Hold: {buy_hold_return:.2f}%\")\n",
        "print(\"--------------------------------------------------\")\n",
        "print(f\"Diferencia (Alfa del Agente): {dql_agent_return - buy_hold_return:.2f}%\")\n",
        "print(\"==============================================\")\n",
        "\n",
        "# --- Gráfico de Evolución del Portafolio ---\n",
        "#plt.figure(figsize=(10, 6))\n",
        "plt.plot(portfolio_values, label=\"Agente DQL\", color=\"royalblue\")\n",
        "plt.axhline(y=buy_hold_return_val, color='grey', linestyle='--', label=f\"Valor Final Buy & Hold (${buy_hold_return_val:,.2f})\")\n",
        "plt.title(\"Evolución del Valor del Portafolio en Backtesting (AAPL)\")\n",
        "plt.xlabel(\"Días (en el período de prueba)\")\n",
        "plt.ylabel(\"Valor del Portafolio ($)\")\n",
        "plt.legend()\n",
        "plt.grid(True, linestyle='--', alpha=0.6)\n",
        "plt.show()"
      ],
      "metadata": {
        "colab": {
          "base_uri": "https://localhost:8080/",
          "height": 592
        },
        "id": "0zTga2D30J9b",
        "outputId": "acc7ba64-0f82-4f7a-f887-1a67744a2847"
      },
      "execution_count": null,
      "outputs": [
        {
          "output_type": "stream",
          "name": "stdout",
          "text": [
            "\n",
            "========== RESULTADOS DEL BACKTESTING ==========\n",
            "Retorno del Agente DQL: 0.00%\n",
            "Retorno de Buy & Hold: 57.70%\n",
            "--------------------------------------------------\n",
            "Diferencia (Alfa del Agente): -57.70%\n",
            "==============================================\n"
          ]
        },
        {
          "output_type": "display_data",
          "data": {
            "text/plain": [
              "<Figure size 640x480 with 1 Axes>"
            ],
            "image/png": "[encoded data removed]"
          },
          "metadata": {}
        }
      ]
    },
    {
      "cell_type": "markdown",
      "source": [
        "---\n",
        "### 9. DESCARGA EL MODELO ENTRENADO\n",
        "\n",
        "Guardar el modelo entrenado es una práctica esencial. Nos permite reutilizar el agente para futuras inferencias o análisis sin necesidad de volver a pasar por el costoso proceso de entrenamiento. Guardamos los \"pesos\" (parámetros) de nuestra red neuronal principal en un archivo."
      ],
      "metadata": {
        "id": "oTs3tDF80OiI"
      }
    },
    {
      "cell_type": "code",
      "source": [
        "# Guardar los pesos del modelo entrenado\n",
        "torch.save(agent.q_network.state_dict(), \"dql_trading_model.pth\")\n",
        "print(\"\\nModelo entrenado guardado como 'dql_trading_model.pth'\")"
      ],
      "metadata": {
        "colab": {
          "base_uri": "https://localhost:8080/"
        },
        "id": "4hnRkdd40UQh",
        "outputId": "cb096f8d-7f44-4f1b-fe4c-bcf34735d53e"
      },
      "execution_count": null,
      "outputs": [
        {
          "output_type": "stream",
          "name": "stdout",
          "text": [
            "\n",
            "Modelo entrenado guardado como 'dql_trading_model.pth'\n"
          ]
        }
      ]
    },
    {
      "cell_type": "markdown",
      "source": [
        "### 10. CONCLUSIÓN GENERAL\n",
        "\n",
        "Este proyecto ha demostrado tanto el potencial como los desafíos inherentes a la aplicación de Deep Q-Learning (DQL) en el dominio del trading algorítmico. El objetivo era entrenar a un agente capaz de aprender una política de trading rentable, superando a una estrategia pasiva de \"Comprar y Mantener\" (Buy & Hold).\n",
        "\n",
        "El proceso de desarrollo fue iterativo. **En un primer intento con la acción de Apple (AAPL) y 50 episodios de entrenamiento, se observó que el agente aprendió una política de aversión total al riesgo, decidiendo no realizar ninguna operación y obteniendo un retorno del 0%**. Este resultado, aunque no rentable, es un comportamiento racional desde la perspectiva del agente, que concluyó que la acción más segura para no perder capital era la inacción.\n",
        "\n",
        "Para abordar esto, se realizaron ajustes significativos con el objetivo de fomentar un aprendizaje más audaz. **Se aumentó el número de episodios a 150, se modificó el decaimiento de épsilon a un valor más lento (0.999) para incentivar una mayor exploración, y se cambió el activo de AAPL al ETF QQQ**, que sigue al índice tecnológico Nasdaq-100 y presenta tendencias potencialmente más claras.\n",
        "\n",
        "A pesar de estas mejoras, el resultado en el backtesting fue idéntico: el agente nuevamente optó por no operar, resultando en un rendimiento del 0% y un alfa negativo del -57.70% frente a la estrategia Buy & Hold.\n",
        "\n",
        "\n",
        "#### ¿Por qué el agente sigue sin operar?\n",
        "\n",
        "La persistencia de este comportamiento, incluso con un activo más tendencial y un entrenamiento más largo, subraya varias de las dificultades fundamentales del RL aplicado a los mercados financieros:\n",
        "\n",
        "1.  **Observabilidad Pobre del Entorno:** El estado del agente, compuesto por indicadores técnicos como las medias móviles y los retornos, no captura la totalidad de las fuerzas que mueven el mercado (noticias, reportes de ganancias, factores macroeconómicos, etc.). El agente opera con información muy limitada, lo que hace extremadamente difícil encontrar señales predictivas fiables.\n",
        "2.  **No Estacionariedad del Mercado:** Los mercados financieros no son estáticos; sus patrones y \"reglas\" cambian constantemente. Una estrategia aprendida con datos de un período puede no ser válida para el siguiente. Es posible que los patrones rentables durante el entrenamiento no se hayan materializado en el período de prueba, reforzando la idea de que la inacción es la política más segura.\n",
        "3.  **Estructura de Recompensa \"Dispersa\":** Al recompensar al agente solo al final del episodio, cualquier operación que resulte en una pérdida neta (incluso pequeña) al final del entrenamiento enseña al agente que \"operar es arriesgado\". Dado que el mercado tiene movimientos impredecibles, es probable que muchos episodios de exploración hayan terminado con pérdidas, llevando a la red neuronal a asignar un valor Q más alto a la acción \"Mantener\", que garantiza un retorno seguro de 0%.\n",
        "4.  **Relación Riesgo-Recompensa Asimétrica:** En un entorno ruidoso, el riesgo de una pérdida puede ser percibido por el agente como mucho más probable que la oportunidad de una ganancia. Para superar la \"seguridad\" del 0% de retorno, el agente necesitaría una confianza muy alta en que una operación generará una recompensa positiva, una confianza que no logró construir con los datos e indicadores disponibles.\n",
        "\n",
        "El proyecto demuestra que, si bien el DQL es un marco poderoso, su aplicación exitosa en el trading requiere una ingeniería de características (estado) mucho más sofisticada y, potencialmente, un diseño de recompensas más avanzado que guíe al agente de manera más efectiva en un entorno tan ruidoso e incierto."
      ],
      "metadata": {
        "id": "cGiMyotnb2oo"
      }
    },
    {
      "cell_type": "code",
      "source": [],
      "metadata": {
        "id": "jZWQamfhtGJm"
      },
      "execution_count": null,
      "outputs": []
    },
    {
      "cell_type": "markdown",
      "source": [
        "### 11. CONCLUSIÓN INDIVIDUAL\n",
        "\n",
        "#### 11.1 FABIANA\n",
        "\n",
        "Este proyecto fue una combinación muy retadora entre lo que ya habíamos visto en MIA hace unos meses y llevarlo ahora a un caso aplicado de trading, donde las cosas no siempre funcionan como uno espera.\n",
        "\n",
        "Al principio pensé que el agente iba a encontrar oportunidades claras de compra y venta, pero me di cuenta de que en la práctica, el entorno financiero es mucho más ruidoso y difícil de modelar con solo unos cuantos indicadores. Me frustró un poco que el agente entrenara tantos episodios y aún así decidiera no hacer casi nada. Pero justo ahí estuvo el aprendizaje: la inacción también es una política aprendida cuando el entorno no te da señales claras.\n",
        "\n",
        "Este curso me ayudó a conectar el mundo de la IA con lo que quiero hacer profesionalmente: sistemas que tomen decisiones reales con datos del mundo financiero. No solo modelos que predicen, sino agentes que actúan, incluso cuando actuar significa no hacer nada.\n",
        "\n",
        "\n",
        "#### 11.2 SANTIAGO\n",
        "Este proyecto me permitió aplicar conceptos de Deep Q-Learning a un entorno de trading simulado, lo cual considero relevante para mi desarrollo profesional en el área bursátil. Una de las principales observaciones que me llevo es que entrenar un agente en mercados financieros requiere más que solo definir estados y recompensas básicas. La calidad de la señal y la representatividad del entorno son determinantes para obtener resultados consistentes.\n",
        "\n",
        "Este proyecto fue un buen punto de partida para seguir profundizando en modelos de decisión secuencial aplicados al trading, que es justamente el camino profesional que quiero seguir."
      ],
      "metadata": {
        "id": "x8cjB6ujsKzw"
      }
    }
  ]
}